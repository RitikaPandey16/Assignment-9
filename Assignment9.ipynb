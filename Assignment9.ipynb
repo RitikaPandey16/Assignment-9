{
 "cells": [
  {
   "cell_type": "code",
   "execution_count": 2,
   "id": "a88b06b7-dca8-4d96-a151-4324c53817b0",
   "metadata": {},
   "outputs": [
    {
     "name": "stdout",
     "output_type": "stream",
     "text": [
      "Area: 20\n",
      "Area: 28.259999999999998\n"
     ]
    }
   ],
   "source": [
    "#Q1.What is Abstraction in OOps? Explain with an example.\n",
    "'''Ans: Abstraction is one of the key principles of OOP. \n",
    "It refers to the process of hiding the implementation details\n",
    "of a system and exposing only the essential features or functionalities.'''\n",
    "from abc import ABC, abstractmethod\n",
    "\n",
    "# Abstract class\n",
    "class Shape(ABC):\n",
    "    @abstractmethod\n",
    "    def area(self):\n",
    "        \"\"\"Abstract method to calculate area\"\"\"\n",
    "        pass\n",
    "\n",
    "# Concrete class (inherits from Shape)\n",
    "class Rectangle(Shape):\n",
    "    def __init__(self, width, height):\n",
    "        self.width = width\n",
    "        self.height = height\n",
    "\n",
    "    def area(self):\n",
    "        return self.width * self.height\n",
    "\n",
    "# Concrete class (inherits from Shape)\n",
    "class Circle(Shape):\n",
    "    def __init__(self, radius):\n",
    "        self.radius = radius\n",
    "\n",
    "    def area(self):\n",
    "        return 3.14 * self.radius * self.radius\n",
    "\n",
    "# Using the classes\n",
    "shapes = [Rectangle(4, 5), Circle(3)]\n",
    "\n",
    "for shape in shapes:\n",
    "    print(f\"Area: {shape.area()}\")\n"
   ]
  },
  {
   "cell_type": "code",
   "execution_count": 4,
   "id": "f287fe00-5d18-46b6-a821-a0a743f44fa2",
   "metadata": {},
   "outputs": [
    {
     "name": "stdout",
     "output_type": "stream",
     "text": [
      "Area: 20\n",
      "Area: 28.259999999999998\n"
     ]
    }
   ],
   "source": [
    "#Q2. Differentiate between Abstraction and Encapsulation. Explain with an example.\n",
    "#Ans: Abstraction:Hiding the implementation details and showing only the essential features.\n",
    "# Abstract class\n",
    "class Shape(ABC):\n",
    "    @abstractmethod\n",
    "    def area(self):\n",
    "        \"\"\"Abstract method to calculate area\"\"\"\n",
    "        pass\n",
    "\n",
    "# Concrete class (inherits from Shape)\n",
    "class Rectangle(Shape):\n",
    "    def __init__(self, width, height):\n",
    "        self.width = width\n",
    "        self.height = height\n",
    "\n",
    "    def area(self):\n",
    "        return self.width * self.height\n",
    "\n",
    "# Concrete class (inherits from Shape)\n",
    "class Circle(Shape):\n",
    "    def __init__(self, radius):\n",
    "        self.radius = radius\n",
    "\n",
    "    def area(self):\n",
    "        return 3.14 * self.radius * self.radius\n",
    "\n",
    "# Using the classes\n",
    "shapes = [Rectangle(4, 5), Circle(3)]\n",
    "\n",
    "for shape in shapes:\n",
    "    print(f\"Area: {shape.area()}\")\n"
   ]
  },
  {
   "cell_type": "code",
   "execution_count": 6,
   "id": "aa91b6e3-453d-4869-a440-8960595fbb3e",
   "metadata": {},
   "outputs": [
    {
     "name": "stdout",
     "output_type": "stream",
     "text": [
      "Deposited 500. New balance: 1500\n",
      "Withdrew 200. Remaining balance: 1300\n",
      "Current Balance: 1300\n"
     ]
    }
   ],
   "source": [
    "#Encapsulation:Bundling data (variables) and methods that operate on the data into a single unit (class).\n",
    "class BankAccount:\n",
    "    def __init__(self, account_number, balance):\n",
    "        self.account_number = account_number\n",
    "        self.__balance = balance  # Private variable\n",
    "\n",
    "    def deposit(self, amount):\n",
    "        if amount > 0:\n",
    "            self.__balance += amount\n",
    "            print(f\"Deposited {amount}. New balance: {self.__balance}\")\n",
    "        else:\n",
    "            print(\"Invalid deposit amount!\")\n",
    "\n",
    "    def withdraw(self, amount):\n",
    "        if 0 < amount <= self.__balance:\n",
    "            self.__balance -= amount\n",
    "            print(f\"Withdrew {amount}. Remaining balance: {self.__balance}\")\n",
    "        else:\n",
    "            print(\"Invalid withdrawal amount or insufficient balance!\")\n",
    "\n",
    "    def get_balance(self):\n",
    "        return self.__balance\n",
    "\n",
    "# Using encapsulation\n",
    "account = BankAccount(12345, 1000)\n",
    "account.deposit(500)  # Deposits money\n",
    "account.withdraw(200)  # Withdraws money\n",
    "print(\"Current Balance:\", account.get_balance())\n",
    "\n",
    "# Accessing private variable directly (Not allowed)\n",
    "# print(account.__balance)  # Will throw an error\n"
   ]
  },
  {
   "cell_type": "code",
   "execution_count": 8,
   "id": "01ddb5e5-f79a-4e6e-a02f-87e9b25e1f26",
   "metadata": {},
   "outputs": [
    {
     "data": {
      "text/plain": [
       "'Ans: The abc module in Python stands for Abstract Base Classes.\\nIt is a built-in module that provides the infrastructure for defining\\nabstract classes and methods. Abstract classes are classes that cannot \\nbe instantiated directly and are designed to be subclassed. The abc module\\nis particularly useful for implementing abstraction in Python.'"
      ]
     },
     "execution_count": 8,
     "metadata": {},
     "output_type": "execute_result"
    }
   ],
   "source": [
    "#Q3.What is abc module in python? Why is it used?\n",
    "'''Ans: The abc module in Python stands for Abstract Base Classes.\n",
    "It is a built-in module that provides the infrastructure for defining\n",
    "abstract classes and methods. Abstract classes are classes that cannot \n",
    "be instantiated directly and are designed to be subclassed. The abc module\n",
    "is particularly useful for implementing abstraction in Python.'''\n",
    "\n"
   ]
  },
  {
   "cell_type": "code",
   "execution_count": null,
   "id": "ab8564f9-4a25-413e-9179-ab3a49730d7b",
   "metadata": {},
   "outputs": [],
   "source": [
    "#Q4: How can we achieve data abstraction?\n",
    "'''Ans: Data abstraction in Python is achieved primarily through abstract classes and interfaces. These tools allow developers to hide the internal implementation details of a class while exposing only the necessary methods and properties for interaction."
   ]
  }
 ],
 "metadata": {
  "kernelspec": {
   "display_name": "Python 3 (ipykernel)",
   "language": "python",
   "name": "python3"
  },
  "language_info": {
   "codemirror_mode": {
    "name": "ipython",
    "version": 3
   },
   "file_extension": ".py",
   "mimetype": "text/x-python",
   "name": "python",
   "nbconvert_exporter": "python",
   "pygments_lexer": "ipython3",
   "version": "3.12.4"
  }
 },
 "nbformat": 4,
 "nbformat_minor": 5
}
